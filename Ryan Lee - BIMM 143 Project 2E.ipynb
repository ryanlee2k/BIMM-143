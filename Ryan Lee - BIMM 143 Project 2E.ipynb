{
 "cells": [
  {
   "cell_type": "markdown",
   "metadata": {},
   "source": [
    "# Scentific Question: Would dietary emulsifier Sodium Stearoyl Lactylate have an effect on the gut microbiome composition, affecting inflammation phenotype in individuals?"
   ]
  },
  {
   "cell_type": "markdown",
   "metadata": {},
   "source": [
    "Since dietary emulsiferies have been discovered in the 20th century, they have been used as food additives to bind water soluble and water insoluble components together in food products. Although emulsifers have been approved by the FDA, not much is known to how they affect the gut microbiome despite diet being the greatest contributor to altering the gut microbiome. (Elmen et al., 2020)\n",
    "\n",
    "The gut microbiome is a highly important component to human immunology as well as disease prevention due to the fact that certain bacterial species in the gut microbiome are able to promote gut barrier function, preventing inflammation phenotype. However, we also find that certain bacterial species produce pro-inflammatory antigens which may cause an inflammation phenotype to be present.\n",
    "\n",
    "Dietary sodium stearoyl lactylate (SSL) is an important FDA-Approved emulsifer of interest as it is present in a number of food products. However, without much knowledge on SSL, further studies have been conducted to identify its role in altering the gut microbiome."
   ]
  },
  {
   "cell_type": "markdown",
   "metadata": {},
   "source": [
    "# Scientific Hypothesis: If dietary emulsifier Sodium Stearoyl Lactylate is present in an individual's diet, then we would see an increased prevalence of pro-inflammatory bacterial species in an individual."
   ]
  },
  {
   "cell_type": "markdown",
   "metadata": {},
   "source": [
    "Butyrate is a short-chain fatty acid which is important for promoting gut barrier function due to its function to act as a metaoblite for gut epithelial cells. From Gas Chromatography-Mass Spectroscopy analysis, we identify that bacterial species from the Clostridum family are butyrate producers that are prevalent in our gut microbiome.\n",
    "\n",
    "To identify the change in microbiome composition, we used In-Vitro studies were done to observe the abundance and growth of Clostridum species when in the presence of SSL. Since the 16S rRNA gene consists of highly conserved nucleotide sequences, interspersed with variable regions that are genus- or species-specific, we can utilze PCR to amplify this region as well as DNA sequencing alignment to determine the expression of the 16S rRNA gene in order to identify the composition of bacterial species in the study (Jenkins et al., 2011).\n",
    "\n",
    "In the paper, they utilized BLAST (Basic Local Alignment Search Tool) which found regions of similarities from select reference genomes that were on the NCBI website. As a result, through the process of using this tool, they were able to find phenotypic relations between the sequenced results. However, for the sake of this project we will be utilizing pairwise sequencing to simulate BLAST. \n",
    "\n",
    "In order to the question if SSL would have an effect on the microbiome with pairwise sequencing, I first had to obtain reference sequences for the 16s rRNA gene for Blautia coccoides (cat. 29138), Clostridium methylpentosum (cat. 5476) and Roseburia intestinalis (cat. 14610). After we would setup an experiment where we would have a superpool bacterial sample treated with a chemically defined media (CDM) and another group treated with SSL + CDM. We would then isolate the DNA, sequence the results which would then give us two results, the SSL group and the control group. We would also obtain the fasta sequence files for both the control bacterial group and the SSL bacteria groups which we can then use pairwise sequencing to obtain a score between 5 bacterial species and the control and SSL groups."
   ]
  },
  {
   "cell_type": "markdown",
   "metadata": {},
   "source": [
    "# Downloading and Loading Packages"
   ]
  },
  {
   "cell_type": "markdown",
   "metadata": {},
   "source": [
    "Biopython (Bio): Collection of Bioinformatics and biology tools that are optimized for python\n",
    "\n",
    "Seaborn: Data visualization library based on matplotlib\n",
    "\n",
    "Pandas: Data structures and operations for manipulating numerical tables\n",
    "\n",
    "Numpy: Adds support for large, multi-dimensional arrays and matrices, along with a large collection of high-level mathematical functions"
   ]
  },
  {
   "cell_type": "code",
   "execution_count": 2,
   "metadata": {},
   "outputs": [],
   "source": [
    "from Bio import Align\n",
    "import seaborn as sns\n",
    "import pandas as pd\n",
    "import numpy as np\n",
    "import gzip\n",
    "import shutil"
   ]
  },
  {
   "cell_type": "markdown",
   "metadata": {},
   "source": [
    "# Importing SRA Files\n",
    "\n",
    "Here, the SRA Files were incorporated into the jupyter notebook. Although in my original code involved printing of the .gz files, there were thousands of short reads which made it difficult to import to GitHub because the size of the file was too large (72 Mb) compared to not printing the .gz files ~42 kb.\n",
    "\n",
    "The original code is as listed here:\n",
    "import gzip\n",
    "\n",
    "For SSL:\n",
    "with gzip.open('/Users/ryanl/Desktop/SSL.gz','r') as SSL      \n",
    "    for line in SSL      \n",
    "        print(line)\n",
    "\n",
    "For Control:\n",
    "with gzip.open('/Users/ryanl/Desktop/Control.gz','r') as Control      \n",
    "    for line in Control      \n",
    "        print(line)\n",
    "        "
   ]
  },
  {
   "cell_type": "code",
   "execution_count": 115,
   "metadata": {},
   "outputs": [],
   "source": [
    "#Convert SSL gz file to string to incorporate all SRA hits obtained from the SSL group\n",
    "SSL_gz = gzip.open('/Users/ryanl/Desktop/SSL.gz', 'rb')"
   ]
  },
  {
   "cell_type": "code",
   "execution_count": 114,
   "metadata": {
    "scrolled": true
   },
   "outputs": [],
   "source": [
    "#Convert Control gz file to string to incorporate all SRA hits obtained from the control group\n",
    "Control_gz = gzip.open('/Users/ryanl/Desktop/Control.gz', 'rb')"
   ]
  },
  {
   "cell_type": "markdown",
   "metadata": {},
   "source": [
    "# Notes about SRA Files\n",
    "I was unable to obtain the full SRA files listed due to the fact that it required to have an Amazon Web Services (AWS) Account before Downloading SRA sequence data using Amazon Web Services. Because of this, although I had the Fasta sequence names, I was unable to obtain them. As a result of this, I ended up using one of the reads from the SSL group and the Control group to somewhat provide a guide to use as a reference when aligned against the reference genomes. Although these sequences are not nearly as long or detailed as the actual Fasta SRA files.\n",
    "\n",
    "Control Fasta: s3://sra-pub-src-17/SRR10871364/V12-T1-1_S1_L001_R1_001.fastq.gz.1\t\n",
    "SSL Fasta: s3://sra-pub-src-16/SRR10871389/SSL-T2-1_S32_L001_R1_001.fastq.gz.1\t\n"
   ]
  },
  {
   "cell_type": "markdown",
   "metadata": {},
   "source": [
    "# Choosing Bacterial Species to Screen\n",
    "Reference genomes were obtained through NCBI, and these three species were chosen because three of which (B. Coccoides, C. Methylpentosum, and R. Intestinalis) were butyrate producers while two of which were not (E. Coli and E. Faecalis). By observing the change in composition between these groups, we could determine the effect SSL in the media had on changing the composition of the species."
   ]
  },
  {
   "cell_type": "code",
   "execution_count": 121,
   "metadata": {},
   "outputs": [
    {
     "name": "stdout",
     "output_type": "stream",
     "text": [
      "AATTGCGCGGCTACCATGCAGTCGAGCGAAGCACTAAGACGGATTTCTTCGGATTGAAGTCTTTGTGACTGAGCGGCGGACGGGTGAGTAACGCGTGGGTAACCTGCCTCATACAGGGGGATAACAGTTAGAAATGACTGCTAATACCGCATAAGCGCACAGGACCGCATGGTCTGGTGTGAAAAACTCCGGTGGTATGAGATGGACCCGCGTCTGATTAGCTAGTTGGAGGGGTAACGGCCCACCAAGGCGACGATCAGTAGCCGGCCTGAGAGGGTGAACGGCCACATTGGGACTGAGACACGGCCCAGACTCCTACGGGAGGCAGCAGTGGGGAATATTGCACAATGGGGGAAACCCTGATGCAGCGACGCCGCGTGAAGGAAGAAGTATCTCGGTATGTAAACTTCTATCAGCAGGGAAGAAAATGACGGTACCTGACTAAGAAGCCCCGGCTAACTACGTGCCAGCAGCCGCGGTAATACGTAGGGGGCAAGCGTTATCCGGATTTACTGGGTGTAAAGGGAGCGTAGACGGAATAGCAAGTCTGATGTGAAAGGCTGGGGCTTAACCCCAGGACTGCATTGGAAACTGTTGTTCTAGAGTGCCGGAGAGGTAAGCGGAATTCCTAGTGTAGCGGTGAAATGCGTAGATATTAGGAGGAACACCAGTGGCGAAGGCGGCTTACTGGACGGTAACTGACGTTGAGGCTCGAAAGCGTGGGGAGCAAACAGGATTAGATACCCTGGTAGTCCACGCCGTAAACGATGAATACTAGGTGTCGGGTGGCAAAGCCATTCGGTGCCGCAGCAAACGCAATAAGTATTCCACCTGGGGAGTACGTTCGCAAGAATGAAACTCAAAGGAATTGACGGGGACCCGCACAAGCGGTGGAGCATGTGGTTTAATTCGAAGCAACGCGAAGAACCTTACCAAGTCTTGACATCCCTCTGACCGTCCCGTAACGGGGACTTCCCTTCGGGGCAGAGGAGACAGGTGGTGCATGGTTGTCGTCAGCTCGTGTCGTGAGATGTTGGGTTAAGTCCCGCAACGAGCGCAACCCTTATCCTTAGTAGCCAGCACATGATGGTGGGCACTCTAGGGAGACTGCCGGGGATAACCCGGAGGAAGGCGGGGACGACGTCAAATCATCATGCCCCTTATGATTTGGGCTACACACGTGCTACAATGGCGTAAACAAAGGGAAGCGAGACAGCGATGTTGAGCGAATCCCAAAAATAACGTCCCAGTTCGGACTGCAGTCTGCAACTCGACTGCACGAAGCTGGAATCGCTAGTAATCGCGGATCAGAATGCCGCGGTGAATACGTTCCCGGGTCTTGTACACACCGCCCGTCACACCATGGGAGTCAGTAACGCCCGAAGTCAGTGACCTAACCGAAAGGAAGGAGCTGCCGAAGGCGGGACCGATAACTGGGGTGAAGTCGAGCAACGTGAATGC\n",
      "AGGACGAACGCTGGCGGCGCGCCTAACACATGCAAGTCGAACGGAGTTGTTTTGGAGAAGCCCTTCGGGGTGGAACTGATTCAACTTAGTGGCGGACGGGTGAGTAACACGTGAGCAACCTGCCTTACAGAGGGGAATAACGTTTGGAAACGAACGCTAATACCGCATAACATAACGGAATCGCATGGTTTTGTTATCAAAGATTATATCGCTGTAAGATGGGCTCGCGTCTGATTAGATAGTTGGTGAGGTAATGGCTCACCAAGTCGACGATCAGTAGCCGGACTGAGAGGTTGAACGGCCACATTGGGACTGAGACACGGCCCAGACTCCTACGGGAGGCAGCAGTGGGGAATATTGCACAATGGGGGAAACCCTGATGCAGCGACGCCGCGTGAAGGAAGAAGGCCTTCGGGTTGTAAACTTCTGTCTTCAGGGACGATAATGACGGTACCTGAGGAGGAAGCTCCGGCTAACTACGTGCCAGCAGCCGCGGTAATACGTAGGGAGCGAGCGTTGTCCGGAATTACTGGGTGTAAAGGGAGCGTAGGCGGGATTGCAAGTTGAATGTGAAATCTATGGGCTTAACCCATAAACTGCGTTCAAAACTGCAGTTCTTGAGTGAAGTAGAGGCAGGCGGAATTCCTAGTGTAGCGGTGAAATGCGTAGATATTAGGAGGAACACCAGTGGCGAAGGCGGCCTGCTGGGCTTTAACTGACGCTGAGGCTCGAAAGCGTGGGTAGCAAACAGGATTAGATACCCTGGTAGTCCACGCCGTAAACGATGATTACTAGGTGTAGGGGGGTCAACCTTCTGTGCCGGAGTTAACACAATAAGTAATCCACCTGGGGAGTACGACCGCAAGGTTGAAACTCAAAGGAATTGACGGGGGCCCGCACAAGCAGTGGAGTATGTGGTTTAATTCGAAGCAACGCGAAGAACCTTACCAGGTCTTGACATCCAACTAACGAAGTAGAGATACATTAGGTGCCCTTCGGGGAAAGTTGAGACAGGTGGTGCATGGTTGTCGTCAGCTCGTGTCGTGAGATGTTGGGTTAAGTCCCGCAACGAGCGCAACCCTTACATTTAGTTGCTACGCAGAGCACTCTAGATGGACTGCCGTTGACAAAACGGAGGAAGGTGGGGATGACGTCAAATCATCATGCCCCTTATGACCTGGGCTACACACGTACTACAATGGCTATTAACAGAGGAAGCAAAACAGTGATGTGGAGCAAACCCCTAAAAATAGTCTCAGTTCGGATTGTAGGCTGCAACTCGCCTACATGAAGCCGGAATTGCTAGTAATCGCGGATCAGCATGCCGCGGTGAATACGTTCCCGGGCCTTGTACACACCGCCCGTCACACCATGAGAGTTGGCAACACCCGAAGTCAGTAGTCTAACCGCAAGGAGGACGCTGCCGAAGGTGGGG\n",
      "TTGATCCTGGCTCAGGATGAACGCTGGCGGCGTGCTTAACACATGCAAGTCGAACGAAGCACTTTATTTGATTTCTTCGGAATGAAGATTTTGTGACTGAGTGGCGGACGGGTGAGTAACGCGTGGGTAACCTGCCTCATACAGGGGGATAACAGTTGGAAACGACTGCTAATACCGCATAAGCGCACAGGGTCGCATGACCTGGTGTGAAAAACTCCGGTGGTATGAGATGGACCCGCGTCTGATTAGCCAGTTGGTGGGGAAACGGCCTACCAAAGCGACGATCAGTAGCCGACCTGAGAGGGTGACCGGCCACATTGGGACTGAGACACGGCCCAAACTCCTACGGGAGGCAGCAGTGGGGAATATTGCACAATGGGGGAAACCCTGATGCAGCGACGCCGCGTGAGCGAAGAAGTATTTCGGTATGTAAAGCTCTATCAGCAGGGAAGAAGAAATGACGGTACCTGACTAAGAAGCACCGGCTTAAATACGTGCCAGCAGCCGCGGTAATACGTATGGTGCAAGCGTTATCCGGATTTACTGGGTGTAAAGGGAGCGCAGGCGGTACGGCAAGTCTGATGTGAAAGCCCGGGGCTCAACCCCGGTACTGCATTGGAAACTGTCGGACTAGAGTGTCGGAGGGGTAAGTGGAATTCCTAGTGTAGCGGTGAAATGCGTAGATATTAGGAGGAACACCAGTGGCGAAGGCGGCTTACTGGACGATTACTGACGCTGAGGCTCGAAAGCGTGGGGAGCAAACAGGATTAGATACCCTGGTAGTCCACGCCGTAAACGATGAATACTAGGTGTCGGGGAGCATTGCTCTTCGGTGCCGCAGCAAACGCAATAAGTATTCCACCTGGGGAGTACGTTCGCAAGAATGAAACTCAAAGGAATTGACGGGGACCCGCACAAGCGGTGGAGCATGTGGTTTAATTCGAAGCAACGCGAAGAACCTTACCAAGTCTTGACATCCCGATGACAGAACATGTAATGTGTTTTCTCTTCGGAGCATCGGTGACAGGTGGTGCATGGTTGTCGTCAGCTCGTGTCGTGAGATGTTGGGTTAAGTCCCGCAACGAGCGCAACCCCTATTCTTAGTAGCCAGCGGGTAAGCCGGGCACTCTAGGGAGACTGCCAGGGATAACCTGGAGGAAGGTGGGGATGACGTCAAATCATCATGCCCCTTATGACTTGGGCTACACACGTGCTACAATGGCGTAAACAAAGGGAAGCGAGCCTGCGAGGGGGAGCAAATCTCAAAAATAACGTCTCAGTTCGGACTGCAGTCTGCAACTCGACTGCACGAAGCTGGAATCGCTAGTAATCGCGAATCAGAATGTCGCGGTGAATACGTTCCCGGGTCTTGTACACACCGCCCGTCACACCATGGGAGTTGATAATGCCCGAAGTCAGTGACCCAACCGCAAGGAGGAGCTGCCGAAGGCAGTATCGATAACTGGGGTGAAGTCGTAACACGTA\n",
      "CCTACGGGGGGCAGCAGTGGGGAATATTGCACAATGGGCGCAAGCCTGATGCAGCCATGCCGCGTGTATGAAGAAGGCCTTCGGGTTGTAAAGTACTTTCAGCGGGGAGGAAGGGAGTAAAGTTAATACCTTTACTCATTGACGTTACCCGCAGAAGAAGCACCGGCTAACTCCGTGCCAGCAGCCGCGGTAATACGGAGGGTGCAAGCGTTAATCGGAATTACTGGGCGTAAAGCGCACGCAGGCGGTTT\n",
      "CCTACGGGGGGCAGCAGTGGGGAATATTGCACAATGGGCGCAAGCCTGATGCAGCCATGCCGCGTGTATGATGAAGGCCTTCGGGTTTTTAAGTTCTTTTTGTGTGGTGGTAGGGTGTTTTGTTTATACCTTTTTTTATTGACGTTACCCGCAGTTGTAGCATCGTCTTTCTCCGTGCCTGCAGCTTCTTTTTTACGTCTGGTGCTTGCGTTAATCTGTTTTTCTTTGCTTTTTGCTCTTGCTGTCTTTTTTCCTCCTCTTTTCTCTCCTCCTTTTTTC\n"
     ]
    }
   ],
   "source": [
    "#Create Variables for 16s rRNA Reference Genomes\n",
    "#Note: fasta sequence for the experiment was not able to be found. We were able to find the SRA .gz files, but the whole constructed sequence was nt able to be found. As a result, 1 SRA for both the Control and SSL groups were taken to be used for this project.\n",
    "B_coccoides = \"AATTGCGCGGCTACCATGCAGTCGAGCGAAGCACTAAGACGGATTTCTTCGGATTGAAGTCTTTGTGACTGAGCGGCGGACGGGTGAGTAACGCGTGGGTAACCTGCCTCATACAGGGGGATAACAGTTAGAAATGACTGCTAATACCGCATAAGCGCACAGGACCGCATGGTCTGGTGTGAAAAACTCCGGTGGTATGAGATGGACCCGCGTCTGATTAGCTAGTTGGAGGGGTAACGGCCCACCAAGGCGACGATCAGTAGCCGGCCTGAGAGGGTGAACGGCCACATTGGGACTGAGACACGGCCCAGACTCCTACGGGAGGCAGCAGTGGGGAATATTGCACAATGGGGGAAACCCTGATGCAGCGACGCCGCGTGAAGGAAGAAGTATCTCGGTATGTAAACTTCTATCAGCAGGGAAGAAAATGACGGTACCTGACTAAGAAGCCCCGGCTAACTACGTGCCAGCAGCCGCGGTAATACGTAGGGGGCAAGCGTTATCCGGATTTACTGGGTGTAAAGGGAGCGTAGACGGAATAGCAAGTCTGATGTGAAAGGCTGGGGCTTAACCCCAGGACTGCATTGGAAACTGTTGTTCTAGAGTGCCGGAGAGGTAAGCGGAATTCCTAGTGTAGCGGTGAAATGCGTAGATATTAGGAGGAACACCAGTGGCGAAGGCGGCTTACTGGACGGTAACTGACGTTGAGGCTCGAAAGCGTGGGGAGCAAACAGGATTAGATACCCTGGTAGTCCACGCCGTAAACGATGAATACTAGGTGTCGGGTGGCAAAGCCATTCGGTGCCGCAGCAAACGCAATAAGTATTCCACCTGGGGAGTACGTTCGCAAGAATGAAACTCAAAGGAATTGACGGGGACCCGCACAAGCGGTGGAGCATGTGGTTTAATTCGAAGCAACGCGAAGAACCTTACCAAGTCTTGACATCCCTCTGACCGTCCCGTAACGGGGACTTCCCTTCGGGGCAGAGGAGACAGGTGGTGCATGGTTGTCGTCAGCTCGTGTCGTGAGATGTTGGGTTAAGTCCCGCAACGAGCGCAACCCTTATCCTTAGTAGCCAGCACATGATGGTGGGCACTCTAGGGAGACTGCCGGGGATAACCCGGAGGAAGGCGGGGACGACGTCAAATCATCATGCCCCTTATGATTTGGGCTACACACGTGCTACAATGGCGTAAACAAAGGGAAGCGAGACAGCGATGTTGAGCGAATCCCAAAAATAACGTCCCAGTTCGGACTGCAGTCTGCAACTCGACTGCACGAAGCTGGAATCGCTAGTAATCGCGGATCAGAATGCCGCGGTGAATACGTTCCCGGGTCTTGTACACACCGCCCGTCACACCATGGGAGTCAGTAACGCCCGAAGTCAGTGACCTAACCGAAAGGAAGGAGCTGCCGAAGGCGGGACCGATAACTGGGGTGAAGTCGAGCAACGTGAATGC\"\n",
    "\n",
    "C_methylpentosum = \"AGGACGAACGCTGGCGGCGCGCCTAACACATGCAAGTCGAACGGAGTTGTTTTGGAGAAGCCCTTCGGGGTGGAACTGATTCAACTTAGTGGCGGACGGGTGAGTAACACGTGAGCAACCTGCCTTACAGAGGGGAATAACGTTTGGAAACGAACGCTAATACCGCATAACATAACGGAATCGCATGGTTTTGTTATCAAAGATTATATCGCTGTAAGATGGGCTCGCGTCTGATTAGATAGTTGGTGAGGTAATGGCTCACCAAGTCGACGATCAGTAGCCGGACTGAGAGGTTGAACGGCCACATTGGGACTGAGACACGGCCCAGACTCCTACGGGAGGCAGCAGTGGGGAATATTGCACAATGGGGGAAACCCTGATGCAGCGACGCCGCGTGAAGGAAGAAGGCCTTCGGGTTGTAAACTTCTGTCTTCAGGGACGATAATGACGGTACCTGAGGAGGAAGCTCCGGCTAACTACGTGCCAGCAGCCGCGGTAATACGTAGGGAGCGAGCGTTGTCCGGAATTACTGGGTGTAAAGGGAGCGTAGGCGGGATTGCAAGTTGAATGTGAAATCTATGGGCTTAACCCATAAACTGCGTTCAAAACTGCAGTTCTTGAGTGAAGTAGAGGCAGGCGGAATTCCTAGTGTAGCGGTGAAATGCGTAGATATTAGGAGGAACACCAGTGGCGAAGGCGGCCTGCTGGGCTTTAACTGACGCTGAGGCTCGAAAGCGTGGGTAGCAAACAGGATTAGATACCCTGGTAGTCCACGCCGTAAACGATGATTACTAGGTGTAGGGGGGTCAACCTTCTGTGCCGGAGTTAACACAATAAGTAATCCACCTGGGGAGTACGACCGCAAGGTTGAAACTCAAAGGAATTGACGGGGGCCCGCACAAGCAGTGGAGTATGTGGTTTAATTCGAAGCAACGCGAAGAACCTTACCAGGTCTTGACATCCAACTAACGAAGTAGAGATACATTAGGTGCCCTTCGGGGAAAGTTGAGACAGGTGGTGCATGGTTGTCGTCAGCTCGTGTCGTGAGATGTTGGGTTAAGTCCCGCAACGAGCGCAACCCTTACATTTAGTTGCTACGCAGAGCACTCTAGATGGACTGCCGTTGACAAAACGGAGGAAGGTGGGGATGACGTCAAATCATCATGCCCCTTATGACCTGGGCTACACACGTACTACAATGGCTATTAACAGAGGAAGCAAAACAGTGATGTGGAGCAAACCCCTAAAAATAGTCTCAGTTCGGATTGTAGGCTGCAACTCGCCTACATGAAGCCGGAATTGCTAGTAATCGCGGATCAGCATGCCGCGGTGAATACGTTCCCGGGCCTTGTACACACCGCCCGTCACACCATGAGAGTTGGCAACACCCGAAGTCAGTAGTCTAACCGCAAGGAGGACGCTGCCGAAGGTGGGG\"\n",
    "\n",
    "R_intestinalis = \"TTGATCCTGGCTCAGGATGAACGCTGGCGGCGTGCTTAACACATGCAAGTCGAACGAAGCACTTTATTTGATTTCTTCGGAATGAAGATTTTGTGACTGAGTGGCGGACGGGTGAGTAACGCGTGGGTAACCTGCCTCATACAGGGGGATAACAGTTGGAAACGACTGCTAATACCGCATAAGCGCACAGGGTCGCATGACCTGGTGTGAAAAACTCCGGTGGTATGAGATGGACCCGCGTCTGATTAGCCAGTTGGTGGGGAAACGGCCTACCAAAGCGACGATCAGTAGCCGACCTGAGAGGGTGACCGGCCACATTGGGACTGAGACACGGCCCAAACTCCTACGGGAGGCAGCAGTGGGGAATATTGCACAATGGGGGAAACCCTGATGCAGCGACGCCGCGTGAGCGAAGAAGTATTTCGGTATGTAAAGCTCTATCAGCAGGGAAGAAGAAATGACGGTACCTGACTAAGAAGCACCGGCTTAAATACGTGCCAGCAGCCGCGGTAATACGTATGGTGCAAGCGTTATCCGGATTTACTGGGTGTAAAGGGAGCGCAGGCGGTACGGCAAGTCTGATGTGAAAGCCCGGGGCTCAACCCCGGTACTGCATTGGAAACTGTCGGACTAGAGTGTCGGAGGGGTAAGTGGAATTCCTAGTGTAGCGGTGAAATGCGTAGATATTAGGAGGAACACCAGTGGCGAAGGCGGCTTACTGGACGATTACTGACGCTGAGGCTCGAAAGCGTGGGGAGCAAACAGGATTAGATACCCTGGTAGTCCACGCCGTAAACGATGAATACTAGGTGTCGGGGAGCATTGCTCTTCGGTGCCGCAGCAAACGCAATAAGTATTCCACCTGGGGAGTACGTTCGCAAGAATGAAACTCAAAGGAATTGACGGGGACCCGCACAAGCGGTGGAGCATGTGGTTTAATTCGAAGCAACGCGAAGAACCTTACCAAGTCTTGACATCCCGATGACAGAACATGTAATGTGTTTTCTCTTCGGAGCATCGGTGACAGGTGGTGCATGGTTGTCGTCAGCTCGTGTCGTGAGATGTTGGGTTAAGTCCCGCAACGAGCGCAACCCCTATTCTTAGTAGCCAGCGGGTAAGCCGGGCACTCTAGGGAGACTGCCAGGGATAACCTGGAGGAAGGTGGGGATGACGTCAAATCATCATGCCCCTTATGACTTGGGCTACACACGTGCTACAATGGCGTAAACAAAGGGAAGCGAGCCTGCGAGGGGGAGCAAATCTCAAAAATAACGTCTCAGTTCGGACTGCAGTCTGCAACTCGACTGCACGAAGCTGGAATCGCTAGTAATCGCGAATCAGAATGTCGCGGTGAATACGTTCCCGGGTCTTGTACACACCGCCCGTCACACCATGGGAGTTGATAATGCCCGAAGTCAGTGACCCAACCGCAAGGAGGAGCTGCCGAAGGCAGTATCGATAACTGGGGTGAAGTCGTAACACGTA\"\n",
    "\n",
    "E_coli = \"GTTTGATCATGGCTCAGATTGAACGCTGGCGGCAGGCCTAACACATGCAAGTCGAACGGTAACAGGAAGAAGCTTGCTTCTTTGCTGACGAGTGGCGGACGGGTGAGTAATGTCTGGGAAACTGCCTGATGGAGGGGGATAACTACTGGAAACGGTAGCTAATACCGCATAACGTCGCAAGACCAAAGAGGGGGACCTTCGGGCCTCTTGCCATCGGATGTGCCCAGATGGGATTAGCTAGTAGGTGGGGTAACGGCTCACCTAGGCGACGATCCCTAGCTGGTCTGAGAGGATGACCAGCCACACTGGAACTGAGACACGGTCCAGACTCCTACGGGAGGCAGCAGTGGGGAATATTGCACAATGGGCGCAAGCCTGATGCAGCCATGCCGCGTGTATGAAGAAGGCCTTCGGGTTGTAAAGTACTTTCAGCGGGGAGGAAGGGAGTAAAGTTAATACCTTTGCTCATTGACGTTACCCGCAGAAGAAGCACCGGCTAACTCCGTGCCAGCAGCCGCGGTAATACGGAGGGTGCAAGCGTTAATCGGAATTACTGGGCGTAAAGCGCACGCAGGCGGTTTGTTAAGTCAGATGTGAAATCCCCGGGCTCAACCTGGGAACTGCATCTGATACTGGCAAGCTTGAGTCTCGTAGAGGGGGGTAGAATTCCAGGTGTAGCGGTGAAATGCGTAGAGATCTGGAGGAATACCGGTGGCGAAGGCGGCCCCCTGGACGAAGACTGACGCTCAGGTGCGAAAGCGTGGGGAGCAAACAGGATTAGATACCCTGGTAGTCCACGCCGTAAACGATGTCGACTTGGAGGTTGTGCCCTTGAGGCGTGGCTTCCGGANNTAACGCGTTAAGTCGACCGCCTGGGGAGTACGGCCGCAAGGTTAAAACTCAAATGAATTGACGGGGGCCGCACAAGCGGTGGAGCATGTGGTTTAATTCGATGCAACGCGAAGAACCTTACCTGGTCTTGACATCCACGGAAGTTTTCAGAGATGAGAATGTGCCTTCGGGAACCGTGAGACAGGTGCTGCATGGCTGTCGTCAGCTCGTGTTGTGAAATGTTGGGTTAAGTCCCGCAACGAGCGCAACCCTTATCCTTTGTTGCCAGCGGTCCGGCCGGGAACTCAAAGGAGACTGCCAGTGATAAACTGGAGGAAGGTGGGGATGACGTCAAGTCATCATGGCCCTTACGACCAGGGCTACACACGTGCTACAATGGCGCATACAAAGAGAAGCGACCTCGCGAGAGCAAGCGGACCTCATAAAGTGCGTCGTAGTCCGGATTGGAGTCTGCAACTCGACTCCATGAAGTCGGAATCGCTAGTAATCGTGGATCAGAATGCCACGGTGAATACGTTCCCGGGCCTTGTACACACCGCCCGTCACACCATGGGAGTGGGTTGCAAAAGAAGTAGGTAGCTTAACTTCGGGAGGGC\"\n",
    "\n",
    "E_faecalis = \"AGAGTTTGATCCTGGCTCAGGACGAACGCTGGCGGCGTGCCTAATACATGCAAGTCGAACGCTTCTTTCCTCCCGAGTGCTTGCACTCAATTGGAAAGAGGAGTGGCGGACGGGTGAGTAACACGTGGGTAACCTACCCATCAGAGGGGGATAACACTTGGAAACAGGTGCTAATACCGCATAACAGTTTATGCCGCATGGCATAAGAGTGAAAGGCGCTTTCGGGTGTCGCTGATGGATGGACCCGCGGTGCATTAGCTAGTTGGTGAGGTAACGGCTCACCAAGGCCACGATGCATAGCCGACCTGAGAGGGTGATCGGCCACACTGGGACTGAGACACGGCCCAGACTCTACGGGAGGCAGCAGTAGGGAATCTTCGGCAATGGACGAAAGTCTGACCGAGCAACGCCGCGTGAGTGAAGAAGGTTTTCGGATCGTAAAACTCTGTTGTTAGAGAAGAACAAGGACGTTAGTAACTGAACGTCCCCTGACGGTATCTAACCAGAAAGCCACGGCTAACTACGTGCCAGCAGCCGCGGTAATACGTAGGTGGCAAGCGTTGTCCGGATTTATTGGGCGTAAAGCGAGCGCAGGCGGTTTCTTAAGTCTGATGTGAAAGCCCCCGGCTCAACCGGGGAGGGTCATTGGAAACTGGGAGACTTGAGTGCAGAAGAGGAGAGTGGAATTCCATGTGTAGCGGTGAAATGCGTAGATATATGGAGGAACACCAGTGGCGAAGGCGGCTCTCTGGTCTGTAACTGACGCTGAGGCTCGAAAGCGTGGGGAGCAAACAGGATTAGATACCCTGGTAGTCCACGCCGTAAACGATGAGTGCTAAGTGTTGGAGGGTTTCCGCCCTTCAGTGCTGCAGCAAACGCATTAAGCACTCCGCCTGGGGAGTACGACCGCAAGGTTGAAACTCAAAGGAATTGACGGGGGCCCGACAAGCGGTGGAGCATGTGTTTAATTCGAAGCAACGCGAAGAACCTTACCAGGTCTTGACATCCTTTGACCACTCTAGAGATAGAGCTTTCCCTTCGGGGACAAAGTGACAGTGGTGCATGGTTGTCGTCAGCTCGTGTCGTGAGATGTTGGGTTAAGTCCGCAACGAGCGCAACCCTTATTGTTAGTTGCCATCATTTAGTTGGGCACTCTAGCGAGACTGCCGGTGACAAACCGGAGGAAGGTGGGGATGACGTCAAATCATCATGCCCCTTATGACCTGGGCTACACACGTGCTACAATGGGAAGTACAACGAGTCGCTAGACCGCGAGGTCATGCAAATCTCTTAAAGCTTCTCTCAGTTCGGATTGCAGGCTGCAACTCGCCTGCATGAAGCCGGAATCGCTAGTAATCGCGGATCAGCACGCCGCGGTGAATACGTTCCCGGGCCTTGTACACACCGCCCGTCACACCACGAGAGTTTGTAACACCCGAAGTCGGTGAGGTAACCTTTTTGGAGCCAGCCGCCTAAGGTGGGATAGATGATTTGGGTGAAGTCGTAACAAGGTAACC\"\n",
    "\n",
    "Control = \"CCTACGGGGGGCAGCAGTGGGGAATATTGCACAATGGGCGCAAGCCTGATGCAGCCATGCCGCGTGTATGAAGAAGGCCTTCGGGTTGTAAAGTACTTTCAGCGGGGAGGAAGGGAGTAAAGTTAATACCTTTACTCATTGACGTTACCCGCAGAAGAAGCACCGGCTAACTCCGTGCCAGCAGCCGCGGTAATACGGAGGGTGCAAGCGTTAATCGGAATTACTGGGCGTAAAGCGCACGCAGGCGGTTT\"\n",
    "\n",
    "SSL= \"CCTACGGGGGGCAGCAGTGGGGAATATTGCACAATGGGCGCAAGCCTGATGCAGCCATGCCGCGTGTATGATGAAGGCCTTCGGGTTTTTAAGTTCTTTTTGTGTGGTGGTAGGGTGTTTTGTTTATACCTTTTTTTATTGACGTTACCCGCAGTTGTAGCATCGTCTTTCTCCGTGCCTGCAGCTTCTTTTTTACGTCTGGTGCTTGCGTTAATCTGTTTTTCTTTGCTTTTTGCTCTTGCTGTCTTTTTTCCTCCTCTTTTCTCTCCTCCTTTTTTC\"\n",
    "\n",
    "print(B_coccoides)\n",
    "\n",
    "print(C_methylpentosum)\n",
    "\n",
    "print(R_intestinalis)\n",
    "\n",
    "print(Control)\n",
    "\n",
    "print(SSL)"
   ]
  },
  {
   "cell_type": "code",
   "execution_count": 122,
   "metadata": {},
   "outputs": [
    {
     "name": "stdout",
     "output_type": "stream",
     "text": [
      "251.0\n"
     ]
    }
   ],
   "source": [
    "#Using align, generate a pairwise alignment between control group and reference B. Coccoides\n",
    "aligner = Align.PairwiseAligner()\n",
    "alignments = aligner.align(Control,B_coccoides)\n",
    "print(alignments.score)"
   ]
  },
  {
   "cell_type": "code",
   "execution_count": 123,
   "metadata": {},
   "outputs": [
    {
     "name": "stdout",
     "output_type": "stream",
     "text": [
      "279.0\n"
     ]
    }
   ],
   "source": [
    "#Using align, generate a pairwise alignment between SSL emulsifer group and reference B. Coccoides\n",
    "aligner = Align.PairwiseAligner()\n",
    "alignments = aligner.align(SSL, B_coccoides)\n",
    "print(alignments.score)"
   ]
  },
  {
   "cell_type": "code",
   "execution_count": 67,
   "metadata": {},
   "outputs": [
    {
     "name": "stdout",
     "output_type": "stream",
     "text": [
      "251.0\n"
     ]
    }
   ],
   "source": [
    "#Using align, generate a pairwise alignment between control group and reference C. Methylpentosum\n",
    "aligner = Align.PairwiseAligner()\n",
    "alignments = aligner.align(Control,C_methylpentosum)\n",
    "print(alignments.score)"
   ]
  },
  {
   "cell_type": "code",
   "execution_count": 66,
   "metadata": {},
   "outputs": [
    {
     "name": "stdout",
     "output_type": "stream",
     "text": [
      "279.0\n"
     ]
    }
   ],
   "source": [
    "#Using align, generate a pairwise alignment between SSL emulsifer group and reference C. Methylpentosum\n",
    "aligner = Align.PairwiseAligner()\n",
    "alignments = aligner.align(SSL,C_methylpentosum)\n",
    "print(alignments.score)"
   ]
  },
  {
   "cell_type": "code",
   "execution_count": 76,
   "metadata": {},
   "outputs": [
    {
     "name": "stdout",
     "output_type": "stream",
     "text": [
      "251.0\n"
     ]
    }
   ],
   "source": [
    "#Using align, generate a pairwise alignment between control group and reference R. Intestinalis\n",
    "aligner = Align.PairwiseAligner()\n",
    "alignments = aligner.align(Control,R_intestinalis)\n",
    "print(alignments.score)"
   ]
  },
  {
   "cell_type": "code",
   "execution_count": 64,
   "metadata": {},
   "outputs": [
    {
     "name": "stdout",
     "output_type": "stream",
     "text": [
      "279.0\n"
     ]
    }
   ],
   "source": [
    "#Using align, generate a pairwise alignment between SSL emulsifer group and reference R. Intestinalis\n",
    "aligner = Align.PairwiseAligner()\n",
    "alignments = aligner.align(SSL,R_intestinalis)\n",
    "print(alignments.score)"
   ]
  },
  {
   "cell_type": "code",
   "execution_count": 86,
   "metadata": {},
   "outputs": [
    {
     "name": "stdout",
     "output_type": "stream",
     "text": [
      "251.0\n"
     ]
    }
   ],
   "source": [
    "#Using align, generate a pairwise alignment between control group and reference R. Intestinalis\n",
    "aligner = Align.PairwiseAligner()\n",
    "alignments = aligner.align(Control,E_coli)\n",
    "print(alignments.score)"
   ]
  },
  {
   "cell_type": "code",
   "execution_count": 85,
   "metadata": {},
   "outputs": [
    {
     "name": "stdout",
     "output_type": "stream",
     "text": [
      "279.0\n"
     ]
    }
   ],
   "source": [
    "#Using align, generate a pairwise alignment between SSL emulsifer group and reference R. Intestinalis\n",
    "aligner = Align.PairwiseAligner()\n",
    "alignments = aligner.align(SSL,E_coli)\n",
    "print(alignments.score)"
   ]
  },
  {
   "cell_type": "code",
   "execution_count": 87,
   "metadata": {},
   "outputs": [
    {
     "name": "stdout",
     "output_type": "stream",
     "text": [
      "251.0\n"
     ]
    }
   ],
   "source": [
    "#Using align, generate a pairwise alignment between control group and reference R. Intestinalis\n",
    "aligner = Align.PairwiseAligner()\n",
    "alignments = aligner.align(Control,E_faecalis)\n",
    "print(alignments.score)"
   ]
  },
  {
   "cell_type": "code",
   "execution_count": 88,
   "metadata": {},
   "outputs": [
    {
     "name": "stdout",
     "output_type": "stream",
     "text": [
      "279.0\n"
     ]
    }
   ],
   "source": [
    "#Using align, generate a pairwise alignment between SSL emulsifer group and reference R. Intestinalis\n",
    "aligner = Align.PairwiseAligner()\n",
    "alignments = aligner.align(SSL,E_faecalis)\n",
    "print(alignments.score)"
   ]
  },
  {
   "cell_type": "markdown",
   "metadata": {},
   "source": [
    "# Create Heatmap to plot the relative abundance of Each Bacterial species after the addtion of SSL\n",
    "\n",
    "Here, I created a heatmap to represent the SSL and Control pairwise score relative to one another. In order to do this, a dictionary was first created in order to setup a dataframe containing the variables and keys. After, we could then utilize this Dataframe to construct the rows and columns of the heatplot. "
   ]
  },
  {
   "cell_type": "code",
   "execution_count": 106,
   "metadata": {},
   "outputs": [
    {
     "data": {
      "text/html": [
       "<div>\n",
       "<style scoped>\n",
       "    .dataframe tbody tr th:only-of-type {\n",
       "        vertical-align: middle;\n",
       "    }\n",
       "\n",
       "    .dataframe tbody tr th {\n",
       "        vertical-align: top;\n",
       "    }\n",
       "\n",
       "    .dataframe thead th {\n",
       "        text-align: right;\n",
       "    }\n",
       "</style>\n",
       "<table border=\"1\" class=\"dataframe\">\n",
       "  <thead>\n",
       "    <tr style=\"text-align: right;\">\n",
       "      <th></th>\n",
       "      <th>B. Coccoides</th>\n",
       "      <th>C. Methylpentosum</th>\n",
       "      <th>R. Intestinalis</th>\n",
       "      <th>E. Coli</th>\n",
       "      <th>E. Faecalis</th>\n",
       "    </tr>\n",
       "  </thead>\n",
       "  <tbody>\n",
       "    <tr>\n",
       "      <th>0</th>\n",
       "      <td>251</td>\n",
       "      <td>251</td>\n",
       "      <td>251</td>\n",
       "      <td>251</td>\n",
       "      <td>251</td>\n",
       "    </tr>\n",
       "    <tr>\n",
       "      <th>1</th>\n",
       "      <td>279</td>\n",
       "      <td>279</td>\n",
       "      <td>279</td>\n",
       "      <td>279</td>\n",
       "      <td>279</td>\n",
       "    </tr>\n",
       "  </tbody>\n",
       "</table>\n",
       "</div>"
      ],
      "text/plain": [
       "   B. Coccoides  C. Methylpentosum  R. Intestinalis  E. Coli  E. Faecalis\n",
       "0           251                251              251      251          251\n",
       "1           279                279              279      279          279"
      ]
     },
     "execution_count": 106,
     "metadata": {},
     "output_type": "execute_result"
    }
   ],
   "source": [
    "# Create a Dictionary for Mapping\n",
    "#Group order [Control, SSL]\n",
    "B_Coccoides= [251,279]\n",
    "C_Methylpentosum= [251,279]\n",
    "R_Intestinalis= [251,279]\n",
    "E_Coli= [251,279]\n",
    "E_Faecalis= [251,279]\n",
    "map={\"B. Coccoides\": B_Coccoides, \"C. Methylpentosum\": C_Methylpentosum, \"R. Intestinalis\": R_Intestinalis, \"E. Coli\":E_Coli, \"E. Faecalis\":E_Faecalis}\n",
    "pd.DataFrame(map)"
   ]
  },
  {
   "cell_type": "code",
   "execution_count": 107,
   "metadata": {},
   "outputs": [
    {
     "data": {
      "text/plain": [
       "<AxesSubplot:>"
      ]
     },
     "execution_count": 107,
     "metadata": {},
     "output_type": "execute_result"
    },
    {
     "data": {
      "image/png": "[encoded data removed]",
      "text/plain": [
       "<Figure size 432x288 with 2 Axes>"
      ]
     },
     "metadata": {
      "needs_background": "light"
     },
     "output_type": "display_data"
    }
   ],
   "source": [
    "#Create Dataset for Mapping\n",
    "seq = pd.DataFrame(map, columns = [\"B. Coccoides\",\"C. Methylpentosum\",\"R. Intestinalis\", \"E. Coli\",\"E. Faecalis\"])\n",
    "#Plot Heatmap\n",
    "sns.heatmap(seq, yticklabels=[\"Control\",\"SSL\"])"
   ]
  },
  {
   "cell_type": "markdown",
   "metadata": {},
   "source": [
    "# Analysis of Heatmap\n",
    "From the results, we find that all SSL species had a pairwise score of 279 while all the control species had a pariwise score of 251. This scoring method identifies that the SSL group scored higher than the Control group, indicating that there were a greater number of basepair matches and fewer mismatches or gaps in the SSL group compared to the control group. From the scoring method, it was identified that within each sample the bacteria composition were of equal proportions due to the fact that the pairwise alignment score was the same throughout each group. Although it differed between the control group and the SSL group, the values remained consistent within each group. With this, we can conclude that SSL does not in fact change the composition of the bacterial groups, which helps us understand that the hypothesis is false.\n",
    "\n",
    "Unfortunately, due to the fact that I was unable to obtain the exact fasta sequences for the control and SSL groups, the results are skewed from myself only using a single SRA. If I were to have the full sequence, we would see a varation between the SSL and control reads compared to each bacterial group as the composition changes with more variance. This is because the composition of B. Coccoides, C. Methylpentosum, R. Intestinalis, E. Coli, and E. Faecalis do not change linearly and the addition of SSL would have had an effect on the composition of the groups. In addition, we would have probably seen initial variation of reads and composition in the control grop, leading us to understand how SSL plays a role in shaping the growth of these groups. The Elmen paper was able to highlight these differences and point out that SSL in fact did decrease the number of bacterial butyrate producers."
   ]
  },
  {
   "cell_type": "code",
   "execution_count": null,
   "metadata": {},
   "outputs": [],
   "source": []
  }
 ],
 "metadata": {
  "kernelspec": {
   "display_name": "Python 3",
   "language": "python",
   "name": "python3"
  },
  "language_info": {
   "codemirror_mode": {
    "name": "ipython",
    "version": 3
   },
   "file_extension": ".py",
   "mimetype": "text/x-python",
   "name": "python",
   "nbconvert_exporter": "python",
   "pygments_lexer": "ipython3",
   "version": "3.8.5"
  }
 },
 "nbformat": 4,
 "nbformat_minor": 4
}
